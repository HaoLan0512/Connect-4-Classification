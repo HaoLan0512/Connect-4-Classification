{
 "cells": [
  {
   "cell_type": "markdown",
   "metadata": {},
   "source": [
    "### Package"
   ]
  },
  {
   "cell_type": "code",
   "execution_count": 1,
   "metadata": {},
   "outputs": [
    {
     "data": {
      "text/plain": [
       "<torch._C.Generator at 0x1e30e492bb0>"
      ]
     },
     "execution_count": 1,
     "metadata": {},
     "output_type": "execute_result"
    }
   ],
   "source": [
    "import numpy as np\n",
    "import pandas as pd\n",
    "from sklearn.model_selection import train_test_split\n",
    "\n",
    "import torch\n",
    "from torch.autograd import Variable\n",
    "import torch.nn.functional as F\n",
    "import matplotlib.pyplot as plt\n",
    "%matplotlib inline\n",
    "\n",
    "torch.manual_seed(1)    # reproducible"
   ]
  },
  {
   "cell_type": "markdown",
   "metadata": {},
   "source": [
    "### Pytorch Class"
   ]
  },
  {
   "cell_type": "code",
   "execution_count": 2,
   "metadata": {},
   "outputs": [],
   "source": [
    "class Net(torch.nn.Module):\n",
    "    def __init__(self, n_feature, n_hidden, n_output):\n",
    "        super(Net, self).__init__()\n",
    "        self.hidden = torch.nn.Linear(n_feature, n_hidden)   # hidden layer\n",
    "        self.out = torch.nn.Linear(n_hidden, n_output)   # output layer\n",
    "\n",
    "    def forward(self, x):\n",
    "        x = F.relu(self.hidden(x))      # activation function for hidden layer\n",
    "        x = self.out(x)\n",
    "        return x"
   ]
  },
  {
   "cell_type": "markdown",
   "metadata": {},
   "source": [
    "### Data load"
   ]
  },
  {
   "cell_type": "code",
   "execution_count": 3,
   "metadata": {},
   "outputs": [],
   "source": [
    "dataset = pd.read_csv('CleanedData _pytorch.csv')\n",
    "dataset = np.array(dataset)\n",
    "\n",
    "data = dataset[:, :-1]\n",
    "target = dataset[:, -1]"
   ]
  },
  {
   "cell_type": "code",
   "execution_count": 4,
   "metadata": {},
   "outputs": [],
   "source": [
    "random_seed = 43\n",
    "x_train, x_test, y_train, y_test = train_test_split(data, target, test_size=0.33,random_state=random_seed)\n",
    "\n",
    "x_train_tensor = torch.tensor(x_train).type(torch.FloatTensor)\n",
    "x_test_tensor = torch.tensor(x_test).type(torch.FloatTensor)\n",
    "y_train_tensor = torch.tensor(y_train).type(torch.LongTensor)\n",
    "y_test_tensor = torch.tensor(y_test).type(torch.LongTensor)\n",
    "\n",
    "x_train_tensor, x_test_tensor, y_train_tensor, y_test_tensor = Variable(x_train_tensor), Variable(x_test_tensor), Variable(y_train_tensor), Variable(y_test_tensor)"
   ]
  },
  {
   "cell_type": "code",
   "execution_count": 9,
   "metadata": {},
   "outputs": [
    {
     "name": "stdout",
     "output_type": "stream",
     "text": [
      "Net(\n",
      "  (hidden): Linear(in_features=42, out_features=128, bias=True)\n",
      "  (out): Linear(in_features=128, out_features=3, bias=True)\n",
      ")\n"
     ]
    }
   ],
   "source": [
    "net = Net(n_feature=42, n_hidden=128, n_output=3)     # define the network\n",
    "print(net)  # net architecture\n",
    "\n",
    "# Loss and Optimizer\n",
    "# Softmax is internally computed.\n",
    "# Set parameters to be updated.\n",
    "optimizer = torch.optim.SGD(net.parameters(), lr=0.1)\n",
    "loss_func = torch.nn.CrossEntropyLoss()  # the target label is NOT an one-hotted"
   ]
  },
  {
   "cell_type": "code",
   "execution_count": 10,
   "metadata": {},
   "outputs": [
    {
     "name": "stdout",
     "output_type": "stream",
     "text": [
      "30.591458429994915\n",
      "69.65378582002165\n",
      "74.83263736992113\n",
      "76.8608735997879\n",
      "77.78219659309339\n",
      "78.46932237467135\n",
      "79.22714920129913\n",
      "79.75298822385717\n",
      "80.13742515631559\n",
      "80.4887209739069\n"
     ]
    }
   ],
   "source": [
    "for t in range(10000):\n",
    "    out = net(x_train_tensor)                 # input x and predict based on x\n",
    "    loss = loss_func(out, y_train_tensor)     # must be (1. nn output, 2. target), the target label is NOT one-hotted\n",
    "\n",
    "    optimizer.zero_grad()   # clear gradients for next train\n",
    "    loss.backward()         # backpropagation, compute gradients\n",
    "    optimizer.step()        # apply gradients\n",
    "\n",
    "    if t % 1000 == 0:\n",
    "        _, prediction = torch.max(F.softmax(out, dim=1), 1)\n",
    "        pred_x_train = prediction.data.numpy().squeeze()\n",
    "        target_x_train = y_train_tensor.data.numpy()\n",
    "        accuracy = np.mean(pred_x_train == target_x_train)*100\n",
    "        print(accuracy)\n"
   ]
  },
  {
   "cell_type": "code",
   "execution_count": 11,
   "metadata": {},
   "outputs": [
    {
     "data": {
      "text/plain": [
       "79.20965282138692"
      ]
     },
     "execution_count": 11,
     "metadata": {},
     "output_type": "execute_result"
    }
   ],
   "source": [
    "_, prediction_test = torch.max(F.softmax(net(x_test_tensor),dim=1), 1)\n",
    "pred_x_test = prediction_test.data.numpy().squeeze()\n",
    "target_x_test = y_test_tensor.data.numpy()\n",
    "np.mean(pred_x_test == target_x_test)*100"
   ]
  }
 ],
 "metadata": {
  "kernelspec": {
   "display_name": "base",
   "language": "python",
   "name": "python3"
  },
  "language_info": {
   "codemirror_mode": {
    "name": "ipython",
    "version": 3
   },
   "file_extension": ".py",
   "mimetype": "text/x-python",
   "name": "python",
   "nbconvert_exporter": "python",
   "pygments_lexer": "ipython3",
   "version": "3.11.4"
  }
 },
 "nbformat": 4,
 "nbformat_minor": 2
}
