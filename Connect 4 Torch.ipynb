{
 "cells": [
  {
   "cell_type": "code",
   "execution_count": 1,
   "metadata": {},
   "outputs": [],
   "source": [
    "import torch\n",
    "import torch.nn as nn\n",
    "import torch.nn.functional as F\n",
    "import torch.optim as optim\n",
    "import numpy as np\n",
    "import pandas as pd\n",
    "from sklearn.model_selection import train_test_split"
   ]
  },
  {
   "cell_type": "code",
   "execution_count": 2,
   "metadata": {},
   "outputs": [
    {
     "name": "stdout",
     "output_type": "stream",
     "text": [
      "Using  cuda\n"
     ]
    }
   ],
   "source": [
    "#GPU\n",
    "cuda = True\n",
    "use_cuda = cuda and torch.cuda.is_available()\n",
    "device = torch.device(\"cuda\" if use_cuda else \"cpu\")\n",
    "print('Using ',device)"
   ]
  },
  {
   "cell_type": "code",
   "execution_count": 3,
   "metadata": {},
   "outputs": [],
   "source": [
    "class ClassifyNet(nn.Module):\n",
    "    def __init__(self, num_in, num_hidden, num_out):\n",
    "        super(ClassifyNet, self).__init__()\n",
    "        self.fc1 = nn.Linear(num_in,num_hidden)\n",
    "        self.fc2 = nn.Linear(num_hidden,num_out)\n",
    "\n",
    "    def forward(self, x):\n",
    "        return F.log_softmax(self.fc2(F.relu(self.fc1(x))), dim=1)"
   ]
  },
  {
   "cell_type": "code",
   "execution_count": 4,
   "metadata": {},
   "outputs": [],
   "source": [
    "#Load Data from CSV and train test split\n",
    "dataset = pd.read_csv('CleanedData _pytorch.csv')\n",
    "dataset = np.array(dataset)\n",
    "\n",
    "data = dataset[:, :-1]\n",
    "target = dataset[:, -1]\n",
    "\n",
    "random_seed = 43\n",
    "x_train, x_test, y_train, y_test = train_test_split(data, target, test_size=0.2,random_state=random_seed)\n",
    "\n",
    "#Convert data to torch and device\n",
    "x_train_tensor = torch.from_numpy(x_train).float().to(device)\n",
    "x_test_tensor = torch.from_numpy(x_test).float().to(device)\n",
    "y_train_tensor = torch.from_numpy(y_train).long().to(device)\n",
    "y_test_tensor = torch.from_numpy(y_test).long().to(device)"
   ]
  },
  {
   "cell_type": "code",
   "execution_count": 5,
   "metadata": {},
   "outputs": [],
   "source": [
    "num_hidden = 128\n",
    "\n",
    "#Setup model and optimizer\n",
    "model = ClassifyNet(42,num_hidden,3).to(device)\n",
    "optimizer = optim.Adam(model.parameters(), lr=0.005)  #Learning rates"
   ]
  },
  {
   "cell_type": "code",
   "execution_count": 6,
   "metadata": {},
   "outputs": [
    {
     "name": "stdout",
     "output_type": "stream",
     "text": [
      "Iteration,Testing Accuracy,Training Accuracy\n",
      "0 10.546962171792984 11.052106320858002\n",
      "1 82.08127021789551 85.18059849739075\n",
      "2 82.11087584495544 86.314857006073\n",
      "3 81.86662793159485 86.78484559059143\n",
      "4 82.13307857513428 87.060546875\n",
      "5 82.11827874183655 87.19192147254944\n",
      "6 82.20709562301636 87.20487356185913\n",
      "7 82.21449255943298 87.42506504058838\n",
      "8 82.18488693237305 87.2566819190979\n",
      "9 82.28110671043396 87.42876648902893\n",
      "10 81.97025060653687 87.61379718780518\n",
      "11 82.15528130531311 87.54533529281616\n",
      "12 82.14788436889648 87.46762275695801\n",
      "13 81.88883662223816 87.62490153312683\n",
      "14 82.06647038459778 87.61935234069824\n",
      "15 81.97025060653687 87.6230537891388\n",
      "16 81.94804787635803 87.78218030929565\n",
      "17 82.16268420219421 87.59159445762634\n",
      "18 81.97025060653687 87.70816922187805\n",
      "19 81.82222247123718 87.76922821998596\n"
     ]
    }
   ],
   "source": [
    "print('Iteration,Testing Accuracy,Training Accuracy')\n",
    "for i in range(20):\n",
    "\n",
    "    #Model evaluation\n",
    "    model.eval()\n",
    "    with torch.no_grad():\n",
    "        pred = torch.argmax(model(x_test_tensor),axis=1)\n",
    "        test_accuracy = torch.sum(pred == y_test_tensor)/len(pred)\n",
    "        pred = torch.argmax(model(x_train_tensor),axis=1)\n",
    "        train_accuracy = torch.sum(pred == y_train_tensor)/len(pred)\n",
    "        print(i,test_accuracy.item()*100,train_accuracy.item()*100)\n",
    "\n",
    "    #Training mode, run data through neural network in mini-batches\n",
    "    model.train()\n",
    "    for j in range(1000):\n",
    "        optimizer.zero_grad()\n",
    "        loss = F.nll_loss(model(x_train_tensor), y_train_tensor)\n",
    "        loss.backward()\n",
    "        optimizer.step()"
   ]
  },
  {
   "cell_type": "code",
   "execution_count": 16,
   "metadata": {},
   "outputs": [
    {
     "data": {
      "text/plain": [
       "tensor([1, 1, 1, 0, 0, 0, 0, 0, 0, 2, 0, 0, 0, 1, 2, 0, 0, 0, 0, 0],\n",
       "       device='cuda:0')"
      ]
     },
     "execution_count": 16,
     "metadata": {},
     "output_type": "execute_result"
    }
   ],
   "source": [
    "torch.argmax(model(x_test_tensor[:20]),axis=1)"
   ]
  },
  {
   "cell_type": "code",
   "execution_count": 17,
   "metadata": {},
   "outputs": [
    {
     "data": {
      "text/plain": [
       "tensor([1, 1, 1, 0, 0, 1, 2, 0, 0, 2, 0, 0, 0, 1, 0, 0, 0, 1, 0, 0],\n",
       "       device='cuda:0')"
      ]
     },
     "execution_count": 17,
     "metadata": {},
     "output_type": "execute_result"
    }
   ],
   "source": [
    "y_test_tensor[:20]"
   ]
  }
 ],
 "metadata": {
  "kernelspec": {
   "display_name": "base",
   "language": "python",
   "name": "python3"
  },
  "language_info": {
   "codemirror_mode": {
    "name": "ipython",
    "version": 3
   },
   "file_extension": ".py",
   "mimetype": "text/x-python",
   "name": "python",
   "nbconvert_exporter": "python",
   "pygments_lexer": "ipython3",
   "version": "3.11.4"
  }
 },
 "nbformat": 4,
 "nbformat_minor": 2
}
