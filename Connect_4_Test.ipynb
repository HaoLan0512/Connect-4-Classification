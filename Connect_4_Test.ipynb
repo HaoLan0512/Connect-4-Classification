{
  "nbformat": 4,
  "nbformat_minor": 0,
  "metadata": {
    "colab": {
      "provenance": [],
      "toc_visible": true
    },
    "kernelspec": {
      "name": "python3",
      "display_name": "Python 3"
    },
    "language_info": {
      "name": "python"
    }
  },
  "cells": [
    {
      "cell_type": "code",
      "execution_count": null,
      "metadata": {
        "id": "HY7OJuO_xLpF"
      },
      "outputs": [],
      "source": [
        "import numpy as np\n",
        "import random\n",
        "import pandas as pd"
      ]
    },
    {
      "cell_type": "code",
      "source": [
        "def empty_columns(A):\n",
        "    \"\"\"Test whether a given boardstate has legal move\n",
        "    ======\n",
        "    Find all columns with 0 at the top\n",
        "\n",
        "    Parameters\n",
        "    ----------\n",
        "    A : numpy array, int\n",
        "        6*7 matrix, represent a given board state: 1 means Player 1, 2 means Player2, 0 means empty.\n",
        "\n",
        "    Returns\n",
        "    -------\n",
        "    empty_indices : list, int\n",
        "        Index of columns that are not full.\n",
        "    \"\"\"\n",
        "    empty = (A[0,:]==0)\n",
        "    return [i for i in range(len(empty)) if empty[i]]"
      ],
      "metadata": {
        "id": "j6EGAeckxb9i"
      },
      "execution_count": null,
      "outputs": []
    },
    {
      "cell_type": "code",
      "source": [
        "def check_winning(A,connectcount):\n",
        "    \"\"\"Test whether a given boardstate has a winner\n",
        "    ======\n",
        "    Find #1 or #2 in the given matrix reaches the given connectcount value.\n",
        "\n",
        "    Parameters\n",
        "    ----------\n",
        "    A : numpy array, int\n",
        "        6*7 matrix, represent a given board state: 1 means Player 1, 2 means Player2, 0 means empty.\n",
        "    connectcount : int\n",
        "        # of 1 or 2 in a line required for win.\n",
        "\n",
        "    Returns\n",
        "    -------\n",
        "    w: int\n",
        "    1 : Player 1 win.\n",
        "    2 : Player 2 win.\n",
        "    0 : There is no winner in the current boardstate.\n",
        "    \"\"\"\n",
        "    for i in range(np.size(A,0)):\n",
        "        for j in range(np.size(A,1)):\n",
        "            if A[i,j]==0: #No need to waste time if the spot is empty\n",
        "                continue\n",
        "\n",
        "            if i<(np.size(A,0)-connectcount+1): #That is, if we are far enough from the bottom for a connect-X\n",
        "                #Check columns below i,j\n",
        "                if np.allclose(A[i:i+connectcount,j],np.ones(connectcount)):\n",
        "                    return 1\n",
        "                elif np.allclose(A[i:i+connectcount,j],(np.ones(connectcount)*2)):\n",
        "                    return 2\n",
        "\n",
        "                #Check down-right diagonals, if able\n",
        "                if j<(np.size(A,1)-connectcount+1):\n",
        "                    if np.allclose(np.diag(A[i:i+connectcount,j:j+connectcount]),np.ones(connectcount)):\n",
        "                        return 1\n",
        "                    elif np.allclose(np.diag(A[i:i+connectcount,j:j+connectcount]),(np.ones(connectcount)*2)):\n",
        "                        return 2\n",
        "                elif j>(connectcount-2): #Check down-left diagonals, if able\n",
        "                    if np.allclose(np.diag(np.fliplr(A[i:i+connectcount,j-connectcount+1:j+1])),np.ones(connectcount)):\n",
        "                        return 1\n",
        "                    elif np.allclose(np.diag(np.fliplr(A[i:i+connectcount,j-connectcount+1:j+1])),(np.ones(connectcount)*2)):\n",
        "                        return 2\n",
        "\n",
        "            if j<(np.size(A,1)-connectcount+1): #Check rows to the right if able\n",
        "                if np.allclose(A[i,j:j+connectcount],np.ones(connectcount)):\n",
        "                    return 1\n",
        "                elif np.allclose(A[i,j:j+connectcount],np.ones(connectcount)):\n",
        "                    return 2\n",
        "    return 0\n"
      ],
      "metadata": {
        "id": "nU2q-2OVxdAi"
      },
      "execution_count": null,
      "outputs": []
    },
    {
      "cell_type": "code",
      "source": [
        "def generate_policy(A,turn,connectcount=4):\n",
        "    \"\"\"Randomly pick an available column to make the next move and determine whose turn next.\n",
        "    ======\n",
        "    Use the # of turn to determine the game state. If the game doesn't end, then generate a random move and switch turns.\n",
        "\n",
        "    Parameters\n",
        "    ----------\n",
        "    A : numpy array, int\n",
        "        6*7 matrix, represent a given board state: 1 means Player 1, 2 means Player2, 0 means empty.\n",
        "    connectcount : int\n",
        "        # of 1 or 2 in a line required for win.\n",
        "    turn: int\n",
        "        Represent the game state: 1, player 1 take the next move; 2, player 2 take the next move; 3, player 1 win;\n",
        "        4, player 2 win; 5, a tie, i.e. no avaiable move but no one wins.\n",
        "    policy: int\n",
        "        A randomly generated integer represent the index of the next move column.\n",
        "\n",
        "    Returns\n",
        "    -------\n",
        "    [A,turn]: list,\n",
        "    A: 6*7 matrix, boardstate updated; turn: int, next turn updated.\n",
        "    \"\"\"\n",
        "    if turn>2:\n",
        "      print(\"Game is over!\")\n",
        "      if turn==3:\n",
        "            print(\"Player 1 wins\")\n",
        "      elif turn==4:\n",
        "            print(\"Player 2 wins\")\n",
        "      elif turn==5:\n",
        "            print(\"It's a tie!\")\n",
        "      return [A,turn]\n",
        "    w = check_winning(A,connectcount)\n",
        "    if w==1:\n",
        "        print(\"Game is over!\")\n",
        "        print(\"Player 1 wins\")\n",
        "        return [A,3]\n",
        "    if w==2:\n",
        "        print(\"Game is over!\")\n",
        "        print(\"Player 2 wins\")\n",
        "        return [A,4]\n",
        "    empty_indices = empty_columns(A)\n",
        "    if len(empty_indices)==0:\n",
        "        print(\"Game is over!\")\n",
        "        print(\"It's a tie!\")\n",
        "        return [A,5]\n",
        "    policy = empty_indices[random.randint(0,len(empty_indices)-1)]\n",
        "    [A,turn] = generate_boardstate(A, turn, policy)\n",
        "    return [A,turn]"
      ],
      "metadata": {
        "id": "xkh2VfRcxggq"
      },
      "execution_count": null,
      "outputs": []
    },
    {
      "cell_type": "code",
      "source": [
        "def generate_boardstate(A,turn,policy):\n",
        "    \"\"\"Generate the next boardstate.\n",
        "    ======\n",
        "    Use policy to update the boardstate and switich turn.\n",
        "\n",
        "    Parameters\n",
        "    ----------\n",
        "    A : numpy array, int\n",
        "        6*7 matrix, represent a given board state: 1 means Player 1, 2 means Player2, 0 means empty.\n",
        "    turn: int\n",
        "        Represent the game state: 1, player 1 take the next move; 2, player 2 take the next move; 3, player 1 win;\n",
        "        4, player 2 win; 5, a tie, i.e. no avaiable move but no one wins.\n",
        "    policy: int\n",
        "        A randomly generated integer represent the index of the next move column.\n",
        "\n",
        "    Returns\n",
        "    -------\n",
        "    [A,turn]: list,\n",
        "    A: 6*7 matrix, boardstate updated; turn: int, next turn updated.\n",
        "    \"\"\"\n",
        "    if turn<3:\n",
        "        m = np.size(A,0)\n",
        "        for i in range(m):\n",
        "            if A[m-i-1,policy]==0:\n",
        "                A[m-i-1,policy]=turn\n",
        "                if turn==1:\n",
        "                    turn=2\n",
        "                elif turn==2:\n",
        "                    turn=1\n",
        "                return [A,turn]\n",
        "        return \"Error - Bad Policy choice!\"\n",
        "    return \"The game is already over! Turn count too high\""
      ],
      "metadata": {
        "id": "_GLYbjMVxjfu"
      },
      "execution_count": null,
      "outputs": []
    },
    {
      "cell_type": "code",
      "source": [
        "def generate_random_boardstate(turncount,rows=6,columns=7):\n",
        "    \"\"\"Randomly simulate the first n move of a empty boardstate.\n",
        "    ======\n",
        "\n",
        "    Parameters\n",
        "    ----------\n",
        "    turncount: int\n",
        "    # of steps required to simulate.\n",
        "\n",
        "    Returns\n",
        "    -------\n",
        "    [A,turn]: list,\n",
        "    A: 6*7 matrix, boardstate updated; turn: int, next turn updated.\n",
        "    \"\"\"\n",
        "\n",
        "    restart = True\n",
        "\n",
        "    while restart:\n",
        "\n",
        "      restart = False\n",
        "      A = np.zeros((rows,columns))\n",
        "      turn = 1\n",
        "\n",
        "      for i in range(0,turncount):\n",
        "        [A,turn]=generate_policy(A,turn)\n",
        "        if check_winning(A,4)!=0:\n",
        "          restart = True\n",
        "          break\n",
        "    return [A,turn]"
      ],
      "metadata": {
        "id": "S0eIj2iWxljA"
      },
      "execution_count": null,
      "outputs": []
    },
    {
      "cell_type": "code",
      "source": [
        "[A,turn]=generate_random_boardstate(41)\n",
        "print(A)\n",
        "# print(np.reshape(A, (1,42))[0])\n",
        "print(turn)"
      ],
      "metadata": {
        "id": "eTU_Tbsoxo7c",
        "colab": {
          "base_uri": "https://localhost:8080/"
        },
        "outputId": "42b26592-c929-4a43-a8cc-6a35be6f819c"
      },
      "execution_count": null,
      "outputs": [
        {
          "output_type": "stream",
          "name": "stdout",
          "text": [
            "[[2. 1. 2. 1. 1. 0. 2.]\n",
            " [2. 2. 2. 2. 2. 1. 1.]\n",
            " [1. 1. 1. 2. 1. 2. 2.]\n",
            " [1. 2. 2. 1. 1. 1. 2.]\n",
            " [1. 1. 2. 1. 2. 2. 1.]\n",
            " [2. 2. 1. 1. 1. 2. 1.]]\n",
            "2\n"
          ]
        }
      ]
    },
    {
      "cell_type": "code",
      "source": [
        "# dataset = pd.read_csv('connect-4.csv')\n",
        "# dataset = np.array(dataset)\n",
        "# first_player = (dataset[0]=='x').astype(int)\n",
        "# second_player = 2*(dataset[0]=='o').astype(int)\n",
        "# d = np.reshape((first_player+second_player)[0:42],(7,6)).T\n",
        "# print(d)\n",
        "# print(dataset[0])"
      ],
      "metadata": {
        "id": "dbRe1TRWxtEi"
      },
      "execution_count": null,
      "outputs": []
    },
    {
      "cell_type": "code",
      "source": [
        "check_winning(np.array([\n",
        " [2, 1, 2, 1, 1, 0, 2],\n",
        " [2, 2, 2, 2, 2, 1, 1],\n",
        " [1, 1, 1, 2, 1, 2, 2],\n",
        " [1, 2, 2, 1, 1, 1, 2],\n",
        " [1, 1, 2, 1, 2, 2, 1],\n",
        " [2, 2, 1, 1, 1, 2, 1]]),4)"
      ],
      "metadata": {
        "id": "Kd7AmYHuz564",
        "colab": {
          "base_uri": "https://localhost:8080/"
        },
        "outputId": "a3e324a3-b6b7-483d-bcbe-cf7245edef0f"
      },
      "execution_count": null,
      "outputs": [
        {
          "output_type": "execute_result",
          "data": {
            "text/plain": [
              "0"
            ]
          },
          "metadata": {},
          "execution_count": 85
        }
      ]
    },
    {
      "cell_type": "code",
      "source": [],
      "metadata": {
        "id": "OTPCpVbN8iJf"
      },
      "execution_count": null,
      "outputs": []
    }
  ]
}